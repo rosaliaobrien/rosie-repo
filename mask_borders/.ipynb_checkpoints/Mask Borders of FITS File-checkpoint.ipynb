{
 "cells": [
  {
   "cell_type": "markdown",
   "id": "76ee61bf",
   "metadata": {},
   "source": [
    "This tutorial demonstrates how to mask the borders of an image, which is particularly useful for images created from drizzled or stacked exposures. Commonly due to dithered observations, these images often exhibit excess noise along the edges due to reduced exposure in these areas. Masking the borders helps in source detection by preventing false identifications caused by this noise."
   ]
  },
  {
   "cell_type": "markdown",
   "id": "3db4831a",
   "metadata": {},
   "source": [
    "# Imports"
   ]
  },
  {
   "cell_type": "code",
   "execution_count": 1,
   "id": "a6cced91",
   "metadata": {},
   "outputs": [],
   "source": [
    "import matplotlib.pyplot as plt\n",
    "import numpy as np\n",
    "\n",
    "# Border masking function\n",
    "from mask_borders import mask_borders"
   ]
  },
  {
   "cell_type": "markdown",
   "id": "e40d9a24",
   "metadata": {},
   "source": [
    "# Create simulated image"
   ]
  },
  {
   "cell_type": "markdown",
   "id": "ffc734b7",
   "metadata": {},
   "source": [
    "Create a simple simulated image of 1s and NaNs. The 1s represent image data, and the NaNs represent no-data regions."
   ]
  },
  {
   "cell_type": "code",
   "execution_count": 2,
   "id": "1b6357a6",
   "metadata": {},
   "outputs": [],
   "source": [
    "# Define function to rotate the array of 1s\n",
    "def rotate(origin, point, theta):\n",
    "    \"\"\"\n",
    "    Rotate a point counterclockwise by a given angle around a given origin.\n",
    "\n",
    "    The angle should be given in radians.\n",
    "    \n",
    "    Taken from this post:\n",
    "    https://stackoverflow.com/questions/34372480/rotate-point-about-another-point-in-degrees-python\n",
    "    \"\"\"\n",
    "    ox, oy = origin\n",
    "    px, py = point\n",
    "    \n",
    "    angle = np.deg2rad(theta)\n",
    "\n",
    "    qx = ox + np.cos(angle) * (px - ox) - np.sin(angle) * (py - oy)\n",
    "    qy = oy + np.sin(angle) * (px - ox) + np.cos(angle) * (py - oy)\n",
    "    return qx, qy\n",
    "\n",
    "# Create a large square array of zeros\n",
    "N = 300  # Dimension of the large square\n",
    "large_square = np.zeros((N, N))\n",
    "\n",
    "# Define the smaller square\n",
    "s = 200  # Side length of the small square\n",
    "\n",
    "# Create simulated science exposure\n",
    "# There will be two square exposures, offset by 30 deg\n",
    "for theta in [30,60]:\n",
    "\n",
    "    # Calculate the center of the large square\n",
    "    center_x, center_y = N // 2, N // 2\n",
    "\n",
    "    # Generate x and y indices\n",
    "    y_indices, x_indices = np.indices((N, N))\n",
    "\n",
    "    # Rotate coordinates\n",
    "    x_rotated, y_rotated = rotate((center_x, center_y), (x_indices, y_indices), theta)\n",
    "\n",
    "    # Create mask for rotated square\n",
    "    inside_rotated_square = ((x_rotated >= center_x - s//2) & (x_rotated < center_x + s//2) &\n",
    "                             (y_rotated >= center_y - s//2) & (y_rotated < center_y + s//2))\n",
    "\n",
    "    # Apply mask\n",
    "    large_square[inside_rotated_square] = 1\n",
    "    \n",
    "large_square[large_square == 0] = np.nan"
   ]
  },
  {
   "cell_type": "markdown",
   "id": "eb25a3df",
   "metadata": {},
   "source": [
    "Plot the simulated image:"
   ]
  },
  {
   "cell_type": "code",
   "execution_count": 3,
   "id": "ecc88123",
   "metadata": {
    "scrolled": true
   },
   "outputs": [
    {
     "data": {
      "text/plain": [
       "<matplotlib.colorbar.Colorbar at 0x7fc37864e590>"
      ]
     },
     "execution_count": 3,
     "metadata": {},
     "output_type": "execute_result"
    },
    {
     "data": {
      "image/png": "[encoded data removed]",
      "text/plain": [
       "<Figure size 360x360 with 2 Axes>"
      ]
     },
     "metadata": {
      "needs_background": "light"
     },
     "output_type": "display_data"
    }
   ],
   "source": [
    "fig, ax = plt.subplots(figsize = (5,5))\n",
    "\n",
    "cs = ax.imshow(large_square, cmap = 'Greys', origin = 'lower', vmin = 0, vmax = 1)\n",
    "\n",
    "plt.colorbar(cs)"
   ]
  },
  {
   "cell_type": "markdown",
   "id": "aed90b33",
   "metadata": {},
   "source": [
    "# Mask borders"
   ]
  },
  {
   "cell_type": "markdown",
   "id": "7fc463c3",
   "metadata": {},
   "source": [
    "Apply the *mask_borders* function to mask the border of the image. The border length will be 20 pixels. This function masks the borders row by row and column by column, which may result in a jagged appearance of the masked areas.\n",
    "\n",
    "**Important**: The no-data regions of the image must be set to NaN for this function to work."
   ]
  },
  {
   "cell_type": "code",
   "execution_count": 4,
   "id": "80ca2d75",
   "metadata": {},
   "outputs": [],
   "source": [
    "masked_image = mask_borders(large_square, border = 20)"
   ]
  },
  {
   "cell_type": "markdown",
   "id": "a5f03be4",
   "metadata": {},
   "source": [
    "# Plot the result"
   ]
  },
  {
   "cell_type": "code",
   "execution_count": 5,
   "id": "d789335e",
   "metadata": {},
   "outputs": [
    {
     "data": {
      "text/plain": [
       "<matplotlib.colorbar.Colorbar at 0x7fc3482e2790>"
      ]
     },
     "execution_count": 5,
     "metadata": {},
     "output_type": "execute_result"
    },
    {
     "data": {
      "image/png": "[encoded data removed]",
      "text/plain": [
       "<Figure size 720x720 with 2 Axes>"
      ]
     },
     "metadata": {
      "needs_background": "light"
     },
     "output_type": "display_data"
    }
   ],
   "source": [
    "fig, ax = plt.subplots(figsize = (10,10))\n",
    "\n",
    "cs = ax.imshow(masked_image, cmap = 'Greys', origin = 'lower', vmin = 0, vmax = 1)\n",
    "\n",
    "plt.colorbar(cs)"
   ]
  },
  {
   "cell_type": "code",
   "execution_count": null,
   "id": "3d9440f5",
   "metadata": {},
   "outputs": [],
   "source": []
  }
 ],
 "metadata": {
  "kernelspec": {
   "display_name": "Python 3 (ipykernel)",
   "language": "python",
   "name": "python3"
  },
  "language_info": {
   "codemirror_mode": {
    "name": "ipython",
    "version": 3
   },
   "file_extension": ".py",
   "mimetype": "text/x-python",
   "name": "python",
   "nbconvert_exporter": "python",
   "pygments_lexer": "ipython3",
   "version": "3.7.11"
  }
 },
 "nbformat": 4,
 "nbformat_minor": 5
}
